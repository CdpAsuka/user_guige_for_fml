{
 "cells": [
  {
   "cell_type": "markdown",
   "metadata": {},
   "source": [
    "## fml-Validate"
   ]
  },
  {
   "cell_type": "code",
   "execution_count": 1,
   "metadata": {},
   "outputs": [],
   "source": [
    "from fml.validates import Validate\n",
    "# from fml.data import DataObject\n",
    "from fml import read_data\n",
    "\n",
    "import pandas as pd\n",
    "from sklearn.ensemble import RandomForestRegressor"
   ]
  },
  {
   "cell_type": "code",
   "execution_count": 2,
   "metadata": {},
   "outputs": [],
   "source": [
    "dataset = read_data('data.csv', df=False)\n",
    "# data = pd.read_csv('data.csv')\n",
    "# X = data.iloc[:, 3:].values\n",
    "# y = data.iloc[:,2].values"
   ]
  },
  {
   "cell_type": "code",
   "execution_count": 3,
   "metadata": {},
   "outputs": [],
   "source": [
    "# dataobj = DataObject(X=X, Y=y)"
   ]
  },
  {
   "cell_type": "code",
   "execution_count": 4,
   "metadata": {},
   "outputs": [],
   "source": [
    "reg = RandomForestRegressor\n",
    "vali = Validate(reg, dataset)"
   ]
  },
  {
   "cell_type": "code",
   "execution_count": 5,
   "metadata": {},
   "outputs": [
    {
     "name": "stdout",
     "output_type": "stream",
     "text": [
      "{'train': {'r2_score': 0.7325201409472488, 'mse': 8.427471542857129, 'mae': 0.7777142857143202, 'rmse': 2.9030107720876837, 'preds': array([ 89.072, 109.984, 100.446, 103.2  , 103.2  , 103.2  , 103.2  ,\n",
      "       103.2  , 103.2  , 103.944, 103.5  , 103.2  , 102.764, 103.2  ,\n",
      "       103.2  , 103.2  , 103.2  , 103.2  , 103.2  , 103.2  , 103.2  ,\n",
      "       103.2  , 103.2  , 103.208, 103.2  , 103.2  , 103.2  , 103.2  ,\n",
      "       104.982, 104.982, 104.982, 104.982, 104.982, 102.446, 102.446]), 'true_value': array([ 74. , 118. ,  99. , 103.2, 103.2, 103.2, 103.2, 103.2, 103.2,\n",
      "       103.2, 103.2, 103.2, 103.2, 103.2, 103.2, 103.2, 103.2, 103.2,\n",
      "       103.2, 103.2, 103.2, 103.2, 103.2, 103.2, 103.2, 103.2, 103.2,\n",
      "       103.2, 105. , 105. , 105. , 105. , 105. , 103. , 103. ]), 'R': 0.9883928740232129, 'model': RandomForestRegressor()}, 'test': None, 'loo': None, 'cv5': None, 'cv10': None}\n"
     ]
    }
   ],
   "source": [
    "vali.validate_train()\n",
    "a = vali.results\n",
    "print(a)"
   ]
  }
 ],
 "metadata": {
  "interpreter": {
   "hash": "f21ec99661e167fd10d9e67652f9225676951372efd2fd171f699c63e6c11e0f"
  },
  "kernelspec": {
   "display_name": "Python 3.7.3 ('base')",
   "language": "python",
   "name": "python3"
  },
  "language_info": {
   "codemirror_mode": {
    "name": "ipython",
    "version": 3
   },
   "file_extension": ".py",
   "mimetype": "text/x-python",
   "name": "python",
   "nbconvert_exporter": "python",
   "pygments_lexer": "ipython3",
   "version": "3.7.3"
  }
 },
 "nbformat": 4,
 "nbformat_minor": 2
}

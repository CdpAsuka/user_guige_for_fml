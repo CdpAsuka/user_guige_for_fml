{
 "cells": [
  {
   "cell_type": "markdown",
   "metadata": {},
   "source": [
    "## fml.validates"
   ]
  },
  {
   "cell_type": "code",
   "execution_count": 1,
   "metadata": {},
   "outputs": [],
   "source": [
    "from fml.validates import Validate\n",
    "from fml.data import DataObject"
   ]
  },
  {
   "cell_type": "code",
   "execution_count": 2,
   "metadata": {},
   "outputs": [],
   "source": [
    "import pandas as pd\n",
    "from sklearn.ensemble import RandomForestRegressor"
   ]
  },
  {
   "cell_type": "code",
   "execution_count": 4,
   "metadata": {},
   "outputs": [],
   "source": [
    "data = pd.read_csv('data.csv')\n",
    "X = data.iloc[:, 3:].values\n",
    "y = data.iloc[:,2].values"
   ]
  },
  {
   "cell_type": "code",
   "execution_count": 5,
   "metadata": {},
   "outputs": [],
   "source": [
    "dataobj = DataObject(X=X, Y=y)"
   ]
  },
  {
   "cell_type": "code",
   "execution_count": 6,
   "metadata": {},
   "outputs": [],
   "source": [
    "reg = RandomForestRegressor\n",
    "vali = Validate(reg, dataobj)"
   ]
  },
  {
   "cell_type": "code",
   "execution_count": 7,
   "metadata": {},
   "outputs": [
    {
     "name": "stdout",
     "output_type": "stream",
     "text": [
      "{'train': {'r2_score': 0.812455657872219, 'mse': 22.999873133541044, 'mae': 3.4725262517006783, 'rmse': 4.795818296551803, 'preds': array([ 5.095872  , 12.830107  , 12.834814  , 13.59456667, 11.38644286,\n",
      "       12.83616   , 11.38644286, 11.38644286, 11.87963333, 16.89726   ,\n",
      "       18.684     , 22.7622    , 11.47049033,  5.68022267,  9.8834    ,\n",
      "        8.99393333, 18.1094    , 14.7738    ,  8.83283333,  3.894475  ,\n",
      "        3.894475  , 33.33711667, 36.01876667,  6.93335   , 24.4496    ,\n",
      "       16.35988333, 19.57621   , 20.406107  , 19.02672733, 17.72588333,\n",
      "       19.02672733,  6.51319   ,  6.51319   ,  5.381209  ,  5.68464433]), 'true_value': array([ 1.05  , 16.4   , 10.88  , 14.1   , 12.7   , 11.8   ,  6.5   ,\n",
      "       15.1   , 12.2   , 14.46  , 18.41  , 29.71  ,  8.42  ,  1.08  ,\n",
      "        8.5   ,  9.5   , 21.9   , 15.37  , 10.07  ,  5.24  ,  1.09  ,\n",
      "       51.2   , 42.8   ,  3.95  , 17.    , 19.    , 21.    , 22.    ,\n",
      "       27.75  , 20.63  , 12.46  ,  5.91  ,  4.19  ,  0.9507,  0.7514]), 'R': 0.9371467307705995, 'model': RandomForestRegressor()}, 'test': None, 'loo': None, 'cv5': None, 'cv10': None}\n"
     ]
    }
   ],
   "source": [
    "vali.validate_train()\n",
    "a = vali.results\n",
    "print(a)"
   ]
  }
 ],
 "metadata": {
  "interpreter": {
   "hash": "f21ec99661e167fd10d9e67652f9225676951372efd2fd171f699c63e6c11e0f"
  },
  "kernelspec": {
   "display_name": "Python 3.7.3 ('base')",
   "language": "python",
   "name": "python3"
  },
  "language_info": {
   "codemirror_mode": {
    "name": "ipython",
    "version": 3
   },
   "file_extension": ".py",
   "mimetype": "text/x-python",
   "name": "python",
   "nbconvert_exporter": "python",
   "pygments_lexer": "ipython3",
   "version": "3.7.3"
  }
 },
 "nbformat": 4,
 "nbformat_minor": 2
}
